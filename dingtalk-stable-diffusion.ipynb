!nvidia-smi
!git clone https://github.com/chzealot/dingtalk-stable-diffusion.git
%cd dingtalk-stable-diffusion
!pip install -r requirements.txt

!python ./dingtalksd.py --device="cuda" --client_id="put-your-dingtalk-client-id-here" --client_secret="put-your-dingtalk-client-secret-here"
