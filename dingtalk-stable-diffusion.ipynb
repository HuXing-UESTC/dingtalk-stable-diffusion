{
  "cells": [
    {
      "cell_type": "code",
      "execution_count": null,
      "metadata": {
        "id": "55J0S0BzdfXF"
      },
      "outputs": [],
      "source": [
        "!nvidia-smi\n",
        "!git clone https://github.com/chzealot/dingtalk-stable-diffusion.git\n",
        "%cd dingtalk-stable-diffusion\n",
        "!pip install -r requirements.txt\n",
        "\n",
        "!python ./dingtalksd.py --device=\"cuda\" --client_id=\"put-your-dingtalk-client-id-here\" --client_secret=\"put-your-dingtalk-client-secret-here\"\n"
      ]
    }
  ],
  "metadata": {
    "colab": {
      "private_outputs": true,
      "provenance": [],
      "toc_visible": true,
      "gpuType": "T4"
    },
    "kernelspec": {
      "display_name": "Python 3",
      "name": "python3"
    },
    "language_info": {
      "name": "python"
    },
    "accelerator": "GPU",
    "gpuClass": "standard"
  },
  "nbformat": 4,
  "nbformat_minor": 0
}
